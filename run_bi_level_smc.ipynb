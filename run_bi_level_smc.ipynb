{
 "cells": [
  {
   "cell_type": "code",
   "execution_count": null,
   "id": "30fc978c",
   "metadata": {},
   "outputs": [],
   "source": [
    "# import des packages \n",
    "import sys\n",
    "sys.path.append('../')\n",
    "from tools.packages import *"
   ]
  },
  {
   "cell_type": "code",
   "execution_count": null,
   "id": "d6200216",
   "metadata": {},
   "outputs": [],
   "source": [
    "# fonctions utiles pour la simulation des données\n",
    "def create_covariates(p, n, step):\n",
    "    covariance = np.repeat(0.5, p*p).reshape((p, p))\n",
    "    covariance[np.eye(covariance.shape[0], dtype=bool)] = 1\n",
    "    X = np.random.multivariate_normal(mean=np.repeat(0, p), cov=covariance, size=n)\n",
    "    coeff = np.zeros(p)\n",
    "    if step is not None:\n",
    "        coeff[step] = 1\n",
    "    return (X, coeff)\n",
    "\n",
    "def create_dictionnary(p_ind, p_group):\n",
    "    dict_group = dict()\n",
    "    step = int(p_ind/p_group)\n",
    "    for group in range(p_group):    \n",
    "        for ind in range(group*step, group*step+step):\n",
    "            dict_group.update({ind : group})\n",
    "    return (dict_group)"
   ]
  },
  {
   "cell_type": "code",
   "execution_count": null,
   "id": "60c0bdba",
   "metadata": {},
   "outputs": [],
   "source": [
    "# paramètres du SMC\n",
    "N = 10000\n",
    "P = 1000\n",
    "nruns = 5\n",
    "nprocs = -5"
   ]
  },
  {
   "cell_type": "code",
   "execution_count": null,
   "id": "cc9509b2",
   "metadata": {},
   "outputs": [],
   "source": [
    "# simulation des données\n",
    "p_group = 5\n",
    "p_ext = 5"
   ]
  },
  {
   "cell_type": "code",
   "execution_count": null,
   "id": "76a07fa9",
   "metadata": {},
   "outputs": [],
   "source": [
    "settings = ((100, 50, 'ALA', 0.5), (200, 50, 'ALA', 0.5), (300, 50, 'ALA', 0.5), (400, 50, 'ALA', 0.5), \n",
    "            (500, 50, 'ALA', 0.5), (600, 50, 'ALA', 0.5), (700, 50, 'ALA', 0.5), (800, 50, 'ALA', 0.5),\n",
    "            (900, 50, 'ALA', 0.5), (1000, 50, 'ALA', 0.5), (1250, 50, 'ALA', 0.5), (1500, 50, 'ALA', 0.5), \n",
    "            (1750, 50, 'ALA', 0.5), (2000, 50, 'ALA', 0.5), (2250, 50, 'ALA', 0.5), (2500, 50, 'ALA', 0.5),\n",
    "            (1500, 10, 'ALA', 0.5), (1500, 25, 'ALA', 0.5), (1500, 75, 'ALA', 0.5),\n",
    "            (1500, 100, 'ALA', 0.5), (1500, 125, 'ALA', 0.5), (1500, 150, 'ALA', 0.5), (1500, 175, 'ALA', 0.5),\n",
    "            (1500, 200, 'ALA', 0.5), (1500, 225, 'ALA', 0.5), (1500, 250, 'ALA', 0.5),\n",
    "            (100, 50, 'LA', 0.5), (200, 50, 'LA', 0.5), (300, 50, 'LA', 0.5), (400, 50, 'LA', 0.5), \n",
    "            (500, 50, 'LA', 0.5), (600, 50, 'LA', 0.5), (700, 50, 'LA', 0.5), (800, 50, 'LA', 0.5),\n",
    "            (900, 50, 'LA', 0.5), (1000, 50, 'LA', 0.5), (1250, 50, 'LA', 0.5), (1500, 50, 'LA', 0.5), \n",
    "            (1750, 50, 'LA', 0.5), (2000, 50, 'LA', 0.5), (2250, 50, 'LA', 0.5), (2500, 50, 'LA', 0.5),\n",
    "            (1500, 10, 'LA', 0.5), (1500, 25, 'LA', 0.5), (1500, 75, 'LA', 0.5),\n",
    "            (1500, 100, 'LA', 0.5), (1500, 125, 'LA', 0.5), (1500, 150, 'LA', 0.5), (1500, 175, 'LA', 0.5),\n",
    "            (1500, 200, 'LA', 0.5), (1500, 225, 'LA', 0.5), (1500, 250, 'LA', 0.5))"
   ]
  },
  {
   "cell_type": "code",
   "execution_count": null,
   "id": "064e17c7",
   "metadata": {},
   "outputs": [],
   "source": [
    "results = []\n",
    "for setting in settings:\n",
    "    # setting\n",
    "    n, p_ind, likelihood = setting[:3]\n",
    "    pi_ind = pi_group = setting[3:][0]\n",
    "    step = int(p_ind/p_group)\n",
    "    \n",
    "    # simulation des données\n",
    "    X_ind, coeff_ind = create_covariates(p=p_ind, n=n, step=np.array([p_ind-(step*2+1), p_ind-(step+1), p_ind-1]))  \n",
    "    X_group, coeff_group = create_covariates(p=p_group, n=n, step=np.array([2, 3, 4]))\n",
    "    X_ext, coeff_ext = create_covariates(p=p_ext, n=n, step=np.array([2, 3, 4]))\n",
    "\n",
    "    # concaténation des variables\n",
    "    X = np.concatenate([X_ext, X_group, X_ind], axis=1)\n",
    "    coeff = np.concatenate([coeff_ext, coeff_group, coeff_ind], axis=0)\n",
    "\n",
    "    # construction de l'outcome\n",
    "    y = np.matmul(X, coeff) + norm.rvs(size=n)\n",
    "    y = np.where(y>=0, 1, 0)\n",
    "\n",
    "    # dictionnaire des correspondances groupes-variables individuelles \n",
    "    dict_group = create_dictionnary(p_ind=p_ind, p_group=p_group)\n",
    "\n",
    "    data = (X, y, dict_group, p_ext)\n",
    "\n",
    "    # spécifier la loi a priori\n",
    "    prior = dists.BiLevelPrior(p_group=p_group, p_ind=p_ind, pi_group=pi_group, pi_ind=pi_ind, dict_group=dict_group)\n",
    "\n",
    "    # spécifier la méthode d'approximation de la vraisemblance marginale\n",
    "    if likelihood == \"ALA\":\n",
    "        model = bin.BilevelALA(data=data, prior=prior)\n",
    "    elif likelihood == \"LA\":\n",
    "        model = bin.BilevelLA(data=data, prior=prior)\n",
    "    else:\n",
    "        print(\"likelihood approximation method misspecified\")\n",
    "        break\n",
    "\n",
    "    # spécifier la méthode MCMC\n",
    "    mcmc = ssps.MCMCSequenceWF(mcmc=bin.BiLevelBinaryMetropolis(data=data), len_chain=P)\n",
    "\n",
    "    # spécifier le modèle SMC \n",
    "    smc = ssps.AdaptiveTempering(model=model, move=mcmc, len_chain=P)\n",
    "\n",
    "    # lancer le SMC\n",
    "    start = time.time()\n",
    "    output = particles.multiSMC(fk=smc, N=N // P, nruns=nruns, nprocs=nprocs, verbose=0)\n",
    "    end = time.time()\n",
    "    \n",
    "    # sauvegarde du temps de calcul\n",
    "    results.append({\"n\":n, \"p_ind\":p_ind, \"likelihood\":likelihood, \n",
    "                  \"time\":round((end-start)/60, 2), \"prior\":pi_ind})\n",
    "    pd.DataFrame(results).to_csv(\"results_simulation/results_SMC.csv\", index=False, sep=\";\")\n",
    "    \n",
    "    # analyse des variables sélectionnées\n",
    "    print(\"n = {} / p_ind = {} / likelihood = {} / prior = {}\".format(n, p_ind, likelihood, pi_ind))\n",
    "    selection = np.mean(output[0][\"output\"].X.theta, axis=0)\n",
    "    print(\"sélection des groupes\")\n",
    "    print(selection[:p_group])\n",
    "    print(\"sélection des variables individuelles\")\n",
    "    print(selection[p_group:])\n",
    "    print(\"------------------------------------------------------\")\n",
    "    print(\" \")\n",
    "    \n",
    "    # sauvegarde du modèle\n",
    "    filename = open(\"results_simulation/output_SMC_n_{}_p_{}_lik_{}_prior_{}.pkl\".format(n, p_ind, likelihood, pi_ind), \"wb\")\n",
    "    pickle.dump(output, filename)\n",
    "    filename.close()"
   ]
  },
  {
   "cell_type": "code",
   "execution_count": null,
   "id": "2e2f5e90",
   "metadata": {},
   "outputs": [],
   "source": []
  }
 ],
 "metadata": {
  "kernelspec": {
   "display_name": "Python 3",
   "language": "python",
   "name": "python3"
  },
  "language_info": {
   "codemirror_mode": {
    "name": "ipython",
    "version": 3
   },
   "file_extension": ".py",
   "mimetype": "text/x-python",
   "name": "python",
   "nbconvert_exporter": "python",
   "pygments_lexer": "ipython3",
   "version": "3.8.2"
  }
 },
 "nbformat": 4,
 "nbformat_minor": 5
}
