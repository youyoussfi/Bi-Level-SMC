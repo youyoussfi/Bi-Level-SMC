{
 "cells": [
  {
   "cell_type": "code",
   "execution_count": null,
   "metadata": {},
   "outputs": [],
   "source": [
    "# Import necessary packages\n",
    "from simulate_data import simulate_data\n",
    "from build_smc import bi_level_SMC  \n",
    "import pickle \n",
    "import numpy"
   ]
  },
  {
   "cell_type": "code",
   "execution_count": null,
   "metadata": {},
   "outputs": [],
   "source": [
    "# Build and run the SMC for bi-level variable selection\n",
    "\n",
    "# Parameters :\n",
    "# - p_group: Number of group variables\n",
    "# - p_ext: Number of external variables\n",
    "# - p_ind: Number of individual variables\n",
    "# - cov_var: Value of the variance-covariance matrix\n",
    "# - n: Number of observations\n",
    "# - nprocs: Number of cores used to launch the algorithm \n",
    "# - N: Number of particles\n",
    "# - P: Length of the Markov chain\n",
    "# - nruns: Number of runs\n",
    "# - approximation_method: Likelihood approximation method ('ALA' or 'LA')\n",
    "# - pi_ind: Parameter of the Bernoulli prior distribution for individual variables\n",
    "# - pi_group: Parameter of the Bernoulli prior distribution for group variables\n",
    "\n",
    "p_ind = 50\n",
    "p_group = 5\n",
    "p_ext = 5\n",
    "cov_var = 0.5\n",
    "n = 100\n",
    "\n",
    "# Simulate data\n",
    "data = simulate_data(p_ind=p_ind, \n",
    "                     p_group=p_group, \n",
    "                     p_ext=p_ext, \n",
    "                     cov_var=cov_var,\n",
    "                     n=n)\n",
    "\n",
    "# Build and run SMC\n",
    "smc = bi_level_SMC(data=data,\n",
    "                   p_group=p_group, \n",
    "                   p_ind=p_ind, \n",
    "                   nprocs=-5,\n",
    "                   N=10000,\n",
    "                   P=1000,\n",
    "                   nruns=5,\n",
    "                   approximation_method='ALA',\n",
    "                   pi_ind=0.5,\n",
    "                   pi_group=0.5)"
   ]
  },
  {
   "cell_type": "code",
   "execution_count": null,
   "metadata": {},
   "outputs": [],
   "source": [
    "# Save the results\n",
    "file = open('bi_level_SMC_results.pkl', 'wb')\n",
    "pickle.dump(smc, file)\n",
    "file.close()"
   ]
  },
  {
   "cell_type": "code",
   "execution_count": null,
   "metadata": {},
   "outputs": [],
   "source": [
    "# Import the results\n",
    "with open('bi_level_SMC_results.pkl', 'rb') as file:\n",
    "    smc_results = pickle.load(file)"
   ]
  },
  {
   "cell_type": "code",
   "execution_count": null,
   "metadata": {},
   "outputs": [],
   "source": [
    "# Get posterior probabilities of inclusion\n",
    "run = 0\n",
    "selection = numpy.mean(smc_results[run]['output'].X.theta, axis=0)\n",
    "print('Posterior probability of inclusion:')\n",
    "print(' ')\n",
    "print('Groups:')\n",
    "print(selection[:p_group])\n",
    "print(' ')\n",
    "print('Individual variables:')\n",
    "print(selection[p_group:])"
   ]
  }
 ],
 "metadata": {
  "kernelspec": {
   "display_name": "Python 3",
   "language": "python",
   "name": "python3"
  },
  "language_info": {
   "codemirror_mode": {
    "name": "ipython",
    "version": 3
   },
   "file_extension": ".py",
   "mimetype": "text/x-python",
   "name": "python",
   "nbconvert_exporter": "python",
   "pygments_lexer": "ipython3",
   "version": "3.10.8"
  }
 },
 "nbformat": 4,
 "nbformat_minor": 2
}
