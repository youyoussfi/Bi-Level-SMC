{
 "cells": [
  {
   "cell_type": "code",
   "execution_count": null,
   "metadata": {},
   "outputs": [],
   "source": []
  },
  {
   "cell_type": "code",
   "execution_count": null,
   "metadata": {},
   "outputs": [],
   "source": [
    "# paramètres du SMC\n",
    "N = 10000\n",
    "P = 1000\n",
    "nruns = 5\n",
    "nprocs = -5\n",
    "\n",
    "# simulation des données\n",
    "p_group = 5\n",
    "p_ext = 5\n",
    "\n",
    "# setting\n",
    "n, p_ind, likelihood = setting[:3]\n",
    "pi_ind = pi_group = setting[3:][0]\n",
    "step = int(p_ind/p_group)"
   ]
  },
  {
   "cell_type": "code",
   "execution_count": null,
   "metadata": {},
   "outputs": [],
   "source": []
  },
  {
   "cell_type": "code",
   "execution_count": null,
   "metadata": {},
   "outputs": [],
   "source": [
    "# créer le data set\n",
    "data = (X, y, dict_group, p_ext)\n",
    "\n",
    "# spécifier la loi a priori\n",
    "prior = dists.BiLevelPrior(p_group=p_group, p_ind=p_ind, pi_group=pi_group, pi_ind=pi_ind, dict_group=dict_group)\n",
    "\n",
    "# spécifier la méthode d'approximation de la vraisemblance marginale\n",
    "if likelihood == \"ALA\":\n",
    "    model = bin.BilevelALA(data=data, prior=prior)\n",
    "elif likelihood == \"LA\":\n",
    "    model = bin.BilevelLA(data=data, prior=prior)\n",
    "else:\n",
    "    print(\"likelihood approximation method misspecified\")\n",
    "    break\n",
    "\n",
    "# spécifier la méthode MCMC\n",
    "mcmc = ssps.MCMCSequenceWF(mcmc=bin.BiLevelBinaryMetropolis(data=data), len_chain=P)\n",
    "\n",
    "# spécifier le modèle SMC \n",
    "smc = ssps.AdaptiveTempering(model=model, move=mcmc, len_chain=P)\n",
    "\n",
    "# lancer le SMC\n",
    "output = particles.multiSMC(fk=smc, N=N // P, nruns=nruns, nprocs=nprocs, verbose=0)\n",
    "\n",
    "# sauvegarde du modèle\n",
    "filename = open(\"output_SMC_n_{}_p_{}_lik_{}_prior_{}.pkl\".format(n, p_ind, likelihood, pi_ind), \"wb\")\n",
    "pickle.dump(output, filename)\n",
    "filename.close()"
   ]
  }
 ],
 "metadata": {
  "language_info": {
   "name": "python"
  }
 },
 "nbformat": 4,
 "nbformat_minor": 2
}
